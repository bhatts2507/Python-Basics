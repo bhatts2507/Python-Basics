{
 "cells": [
  {
   "cell_type": "markdown",
   "metadata": {},
   "source": [
    "## Python Basic Programming Exercises"
   ]
  },
  {
   "cell_type": "code",
   "execution_count": null,
   "metadata": {
    "collapsed": true
   },
   "outputs": [],
   "source": [
    "#1: Write a program which will find all such numbers which are divisible by 7 \n",
    "#   but are not a multiple of 5, between 2000 and 3200 (both included).\n",
    "\n",
    "\n",
    "#Hints: Consider use range(#begin, #end) method\n"
   ]
  },
  {
   "cell_type": "code",
   "execution_count": 3,
   "metadata": {},
   "outputs": [
    {
     "name": "stdout",
     "output_type": "stream",
     "text": [
      "2002 is divisible by 7 and not a multiple of 5\n",
      "2009 is divisible by 7 and not a multiple of 5\n",
      "2016 is divisible by 7 and not a multiple of 5\n",
      "2023 is divisible by 7 and not a multiple of 5\n",
      "2037 is divisible by 7 and not a multiple of 5\n",
      "2044 is divisible by 7 and not a multiple of 5\n",
      "2051 is divisible by 7 and not a multiple of 5\n",
      "2058 is divisible by 7 and not a multiple of 5\n",
      "2072 is divisible by 7 and not a multiple of 5\n",
      "2079 is divisible by 7 and not a multiple of 5\n",
      "2086 is divisible by 7 and not a multiple of 5\n",
      "2093 is divisible by 7 and not a multiple of 5\n",
      "2107 is divisible by 7 and not a multiple of 5\n",
      "2114 is divisible by 7 and not a multiple of 5\n",
      "2121 is divisible by 7 and not a multiple of 5\n",
      "2128 is divisible by 7 and not a multiple of 5\n",
      "2142 is divisible by 7 and not a multiple of 5\n",
      "2149 is divisible by 7 and not a multiple of 5\n",
      "2156 is divisible by 7 and not a multiple of 5\n",
      "2163 is divisible by 7 and not a multiple of 5\n",
      "2177 is divisible by 7 and not a multiple of 5\n",
      "2184 is divisible by 7 and not a multiple of 5\n",
      "2191 is divisible by 7 and not a multiple of 5\n",
      "2198 is divisible by 7 and not a multiple of 5\n",
      "2212 is divisible by 7 and not a multiple of 5\n",
      "2219 is divisible by 7 and not a multiple of 5\n",
      "2226 is divisible by 7 and not a multiple of 5\n",
      "2233 is divisible by 7 and not a multiple of 5\n",
      "2247 is divisible by 7 and not a multiple of 5\n",
      "2254 is divisible by 7 and not a multiple of 5\n",
      "2261 is divisible by 7 and not a multiple of 5\n",
      "2268 is divisible by 7 and not a multiple of 5\n",
      "2282 is divisible by 7 and not a multiple of 5\n",
      "2289 is divisible by 7 and not a multiple of 5\n",
      "2296 is divisible by 7 and not a multiple of 5\n",
      "2303 is divisible by 7 and not a multiple of 5\n",
      "2317 is divisible by 7 and not a multiple of 5\n",
      "2324 is divisible by 7 and not a multiple of 5\n",
      "2331 is divisible by 7 and not a multiple of 5\n",
      "2338 is divisible by 7 and not a multiple of 5\n",
      "2352 is divisible by 7 and not a multiple of 5\n",
      "2359 is divisible by 7 and not a multiple of 5\n",
      "2366 is divisible by 7 and not a multiple of 5\n",
      "2373 is divisible by 7 and not a multiple of 5\n",
      "2387 is divisible by 7 and not a multiple of 5\n",
      "2394 is divisible by 7 and not a multiple of 5\n",
      "2401 is divisible by 7 and not a multiple of 5\n",
      "2408 is divisible by 7 and not a multiple of 5\n",
      "2422 is divisible by 7 and not a multiple of 5\n",
      "2429 is divisible by 7 and not a multiple of 5\n",
      "2436 is divisible by 7 and not a multiple of 5\n",
      "2443 is divisible by 7 and not a multiple of 5\n",
      "2457 is divisible by 7 and not a multiple of 5\n",
      "2464 is divisible by 7 and not a multiple of 5\n",
      "2471 is divisible by 7 and not a multiple of 5\n",
      "2478 is divisible by 7 and not a multiple of 5\n",
      "2492 is divisible by 7 and not a multiple of 5\n",
      "2499 is divisible by 7 and not a multiple of 5\n",
      "2506 is divisible by 7 and not a multiple of 5\n",
      "2513 is divisible by 7 and not a multiple of 5\n",
      "2527 is divisible by 7 and not a multiple of 5\n",
      "2534 is divisible by 7 and not a multiple of 5\n",
      "2541 is divisible by 7 and not a multiple of 5\n",
      "2548 is divisible by 7 and not a multiple of 5\n",
      "2562 is divisible by 7 and not a multiple of 5\n",
      "2569 is divisible by 7 and not a multiple of 5\n",
      "2576 is divisible by 7 and not a multiple of 5\n",
      "2583 is divisible by 7 and not a multiple of 5\n",
      "2597 is divisible by 7 and not a multiple of 5\n",
      "2604 is divisible by 7 and not a multiple of 5\n",
      "2611 is divisible by 7 and not a multiple of 5\n",
      "2618 is divisible by 7 and not a multiple of 5\n",
      "2632 is divisible by 7 and not a multiple of 5\n",
      "2639 is divisible by 7 and not a multiple of 5\n",
      "2646 is divisible by 7 and not a multiple of 5\n",
      "2653 is divisible by 7 and not a multiple of 5\n",
      "2667 is divisible by 7 and not a multiple of 5\n",
      "2674 is divisible by 7 and not a multiple of 5\n",
      "2681 is divisible by 7 and not a multiple of 5\n",
      "2688 is divisible by 7 and not a multiple of 5\n",
      "2702 is divisible by 7 and not a multiple of 5\n",
      "2709 is divisible by 7 and not a multiple of 5\n",
      "2716 is divisible by 7 and not a multiple of 5\n",
      "2723 is divisible by 7 and not a multiple of 5\n",
      "2737 is divisible by 7 and not a multiple of 5\n",
      "2744 is divisible by 7 and not a multiple of 5\n",
      "2751 is divisible by 7 and not a multiple of 5\n",
      "2758 is divisible by 7 and not a multiple of 5\n",
      "2772 is divisible by 7 and not a multiple of 5\n",
      "2779 is divisible by 7 and not a multiple of 5\n",
      "2786 is divisible by 7 and not a multiple of 5\n",
      "2793 is divisible by 7 and not a multiple of 5\n",
      "2807 is divisible by 7 and not a multiple of 5\n",
      "2814 is divisible by 7 and not a multiple of 5\n",
      "2821 is divisible by 7 and not a multiple of 5\n",
      "2828 is divisible by 7 and not a multiple of 5\n",
      "2842 is divisible by 7 and not a multiple of 5\n",
      "2849 is divisible by 7 and not a multiple of 5\n",
      "2856 is divisible by 7 and not a multiple of 5\n",
      "2863 is divisible by 7 and not a multiple of 5\n",
      "2877 is divisible by 7 and not a multiple of 5\n",
      "2884 is divisible by 7 and not a multiple of 5\n",
      "2891 is divisible by 7 and not a multiple of 5\n",
      "2898 is divisible by 7 and not a multiple of 5\n",
      "2912 is divisible by 7 and not a multiple of 5\n",
      "2919 is divisible by 7 and not a multiple of 5\n",
      "2926 is divisible by 7 and not a multiple of 5\n",
      "2933 is divisible by 7 and not a multiple of 5\n",
      "2947 is divisible by 7 and not a multiple of 5\n",
      "2954 is divisible by 7 and not a multiple of 5\n",
      "2961 is divisible by 7 and not a multiple of 5\n",
      "2968 is divisible by 7 and not a multiple of 5\n",
      "2982 is divisible by 7 and not a multiple of 5\n",
      "2989 is divisible by 7 and not a multiple of 5\n",
      "2996 is divisible by 7 and not a multiple of 5\n",
      "3003 is divisible by 7 and not a multiple of 5\n",
      "3017 is divisible by 7 and not a multiple of 5\n",
      "3024 is divisible by 7 and not a multiple of 5\n",
      "3031 is divisible by 7 and not a multiple of 5\n",
      "3038 is divisible by 7 and not a multiple of 5\n",
      "3052 is divisible by 7 and not a multiple of 5\n",
      "3059 is divisible by 7 and not a multiple of 5\n",
      "3066 is divisible by 7 and not a multiple of 5\n",
      "3073 is divisible by 7 and not a multiple of 5\n",
      "3087 is divisible by 7 and not a multiple of 5\n",
      "3094 is divisible by 7 and not a multiple of 5\n",
      "3101 is divisible by 7 and not a multiple of 5\n",
      "3108 is divisible by 7 and not a multiple of 5\n",
      "3122 is divisible by 7 and not a multiple of 5\n",
      "3129 is divisible by 7 and not a multiple of 5\n",
      "3136 is divisible by 7 and not a multiple of 5\n",
      "3143 is divisible by 7 and not a multiple of 5\n",
      "3157 is divisible by 7 and not a multiple of 5\n",
      "3164 is divisible by 7 and not a multiple of 5\n",
      "3171 is divisible by 7 and not a multiple of 5\n",
      "3178 is divisible by 7 and not a multiple of 5\n",
      "3192 is divisible by 7 and not a multiple of 5\n",
      "3199 is divisible by 7 and not a multiple of 5\n"
     ]
    }
   ],
   "source": [
    "mod1=0\n",
    "mod2=0\n",
    "for i in range(2000,3201):\n",
    "    mod1 = i % 7\n",
    "    mod2 = i % 5\n",
    "    if (mod1 == 0) and (mod2 != 0):\n",
    "         print(i,\"is divisible by 7 and not a multiple of 5\")\n"
   ]
  },
  {
   "cell_type": "code",
   "execution_count": null,
   "metadata": {
    "collapsed": true
   },
   "outputs": [],
   "source": [
    "#2. Write a program which can compute the factorial of a given numbers. \n",
    "#   The results should be printed in a comma-separated sequence on a single line. \n",
    "# input() function can be used for getting user(console) input\n",
    "# raw_input() for python 2.x\n",
    "\n",
    "#Suppose the input is supplied to the program:  8  \n",
    "#Then, the output should be:  40320 \n",
    "#Hints: In case of input data being supplied to the question, it should be assumed to be a console input. \n"
   ]
  },
  {
   "cell_type": "code",
   "execution_count": 25,
   "metadata": {},
   "outputs": [
    {
     "name": "stdout",
     "output_type": "stream",
     "text": [
      "5\n",
      "120\n"
     ]
    }
   ],
   "source": [
    "factorial = 1\n",
    "fact=int(input())\n",
    "for i in range(1,fact+1):\n",
    "        factorial = factorial * i \n",
    "print (factorial)"
   ]
  },
  {
   "cell_type": "code",
   "execution_count": null,
   "metadata": {
    "collapsed": true
   },
   "outputs": [],
   "source": [
    "#3. With a given integral number n, write a program to generate a dictionary that contains (i, i*i) such that is an integral number between 1 and n (both included). and then the program should print the dictionary.\n",
    "#Suppose the following input is supplied to the program: 8\n",
    "#Then, the output should be: {1: 1, 2: 4, 3: 9, 4: 16, 5: 25, 6: 36, 7: 49, 8: 64}\n",
    "#Hints: In case of input data being supplied to the question, it should be assumed to be a console input. Consider use dict()\n",
    "\n"
   ]
  },
  {
   "cell_type": "code",
   "execution_count": 12,
   "metadata": {},
   "outputs": [
    {
     "name": "stdout",
     "output_type": "stream",
     "text": [
      "3\n",
      "{1: 1}\n",
      "{2: 4}\n",
      "{3: 9}\n"
     ]
    }
   ],
   "source": [
    "n=int(input())\n",
    "for i in range(1,n+1):\n",
    "    print({i:i**2})"
   ]
  },
  {
   "cell_type": "code",
   "execution_count": 17,
   "metadata": {},
   "outputs": [
    {
     "name": "stdout",
     "output_type": "stream",
     "text": [
      "3\n",
      "{1: 1}\n",
      "{2: 4}\n",
      "{3: 9}\n"
     ]
    }
   ],
   "source": [
    "n=int(input())\n",
    "for i in range(1,n+1):\n",
    "    print(dict(dict(zip([i], [i**2]))))  \n",
    "     \n",
    "\n",
    "       "
   ]
  },
  {
   "cell_type": "code",
   "execution_count": null,
   "metadata": {
    "collapsed": true
   },
   "outputs": [],
   "source": [
    "#4. Write a program which accepts a sequence of comma-separated numbers from console and generate a list and a tuple which contains every number.\n",
    "#Suppose the following input is supplied to the program: 34,67,55,33,12,98\n",
    "    #Then, the output should be: ['34', '67', '55', '33', '12', '98'] ('34', '67', '55', '33', '12', '98')\n",
    "\n",
    "#Hints: In case of input data being supplied to the question, it should be assumed to be a console input. tuple() method can convert list to tuple\n"
   ]
  },
  {
   "cell_type": "code",
   "execution_count": null,
   "metadata": {
    "collapsed": true
   },
   "outputs": [],
   "source": []
  },
  {
   "cell_type": "code",
   "execution_count": null,
   "metadata": {
    "collapsed": true
   },
   "outputs": [],
   "source": [
    "#5. Define a class which has at least two methods: getString: to get a string from console input and \n",
    "#printString: to print the string in upper case. Also please include simple test function to test the class methods.\n",
    "\n",
    "#Hints: Use __init__ method to construct some parameters\n"
   ]
  },
  {
   "cell_type": "code",
   "execution_count": 3,
   "metadata": {
    "collapsed": true
   },
   "outputs": [],
   "source": []
  },
  {
   "cell_type": "code",
   "execution_count": null,
   "metadata": {
    "collapsed": true
   },
   "outputs": [],
   "source": [
    "#6. Write a program that accepts a comma separated sequence of words as input and \n",
    "# prints the words in a comma-separated sequence after sorting them alphabetically.\n",
    "\n",
    "# Suppose the following input is supplied to the program: without,hello,bag,world\n",
    "# Then, the output should be: bag,hello,without,world\n",
    "\n",
    "#Hints: In case of input data being supplied to the question, it should be assumed to be a console input.\n"
   ]
  },
  {
   "cell_type": "code",
   "execution_count": null,
   "metadata": {
    "collapsed": true
   },
   "outputs": [],
   "source": []
  },
  {
   "cell_type": "code",
   "execution_count": null,
   "metadata": {
    "collapsed": true
   },
   "outputs": [],
   "source": [
    "#7. Write a program that accepts a sequence of whitespace separated words \n",
    "# as input and prints the words after removing all duplicate words and sorting them alphanumerically.\n",
    "# Suppose the following input is supplied to the program: hello world and practice makes perfect and hello world again\n",
    "# Then, the output should be: again and hello makes perfect practice world\n",
    "\n",
    "#Hints: In case of input data being supplied to the question, it should be assumed to be a console input.\n",
    "#We use set container to remove duplicated data automatically and then use sorted() to sort the data.\n"
   ]
  },
  {
   "cell_type": "code",
   "execution_count": null,
   "metadata": {
    "collapsed": true
   },
   "outputs": [],
   "source": []
  },
  {
   "cell_type": "code",
   "execution_count": null,
   "metadata": {
    "collapsed": true
   },
   "outputs": [],
   "source": [
    "#8. Write a program that accepts a sentence and calculate the number of upper case \n",
    "# letters and lower case letters.\n",
    "#Suppose the following input is supplied to the program: Hello world!\n",
    "#Then, the output should be: UPPER CASE 1 LOWER CASE 9\n",
    "\n",
    "#Hints: In case of input data being supplied to the question, it should be assumed to be a console input.\n"
   ]
  },
  {
   "cell_type": "code",
   "execution_count": null,
   "metadata": {
    "collapsed": true
   },
   "outputs": [],
   "source": []
  },
  {
   "cell_type": "code",
   "execution_count": null,
   "metadata": {
    "collapsed": true
   },
   "outputs": [],
   "source": [
    "#9. A website requires the users to input username and password to register. Write a program to check the validity of password\n",
    "#input by users. Following are the criteria for checking the password:\n",
    "#1. At least 1 letter between [a-z]\n",
    "#2. At least 1 number between [0-9]\n",
    "#1. At least 1 letter between [A-Z]\n",
    "#3. At least 1 character from [$#@]\n",
    "#4. Minimum length of transaction password: 6\n",
    "#5. Maximum length of transaction password: 12\n",
    "#Your program should accept a sequence of comma separated passwords and will check them according to the above criteria. \n",
    "#Passwords that match the criteria are to be printed, each separated by a comma.\n",
    "#Example. If the following passwords are given as input to the program: ABd1234@1,a F1#,2w3E*,2We3345\n",
    "#Then, the output of the program should be: ABd1234@1\n",
    "\n",
    "# You can use module called re\n",
    "#Hints: In case of input data being supplied to the question, it should be assumed to be a console input.\n",
    "\n"
   ]
  },
  {
   "cell_type": "code",
   "execution_count": null,
   "metadata": {
    "collapsed": true
   },
   "outputs": [],
   "source": []
  },
  {
   "cell_type": "code",
   "execution_count": null,
   "metadata": {
    "collapsed": true
   },
   "outputs": [],
   "source": [
    "#10. Python has many built-in functions, and if you do not know how to use it, you can read document online or find some books.\n",
    "#But Python has a built-in document function for every built-in functions.\n",
    "#Please write a program to print some Python built-in functions documents, such as abs(), int(), raw_input()\n",
    "#And add document for your own function\n",
    "    \n",
    "#Hints: The built-in document method is __doc__\n"
   ]
  },
  {
   "cell_type": "code",
   "execution_count": null,
   "metadata": {
    "collapsed": true
   },
   "outputs": [],
   "source": []
  }
 ],
 "metadata": {
  "kernelspec": {
   "display_name": "Python 3",
   "language": "python",
   "name": "python3"
  },
  "language_info": {
   "codemirror_mode": {
    "name": "ipython",
    "version": 3
   },
   "file_extension": ".py",
   "mimetype": "text/x-python",
   "name": "python",
   "nbconvert_exporter": "python",
   "pygments_lexer": "ipython3",
   "version": "3.7.3"
  }
 },
 "nbformat": 4,
 "nbformat_minor": 2
}
